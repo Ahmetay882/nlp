{
 "cells": [
  {
   "cell_type": "markdown",
   "id": "413adf5f-2c62-4950-beaf-c56db03c1d07",
   "metadata": {},
   "source": [
    "# Metin Sınıflandırma"
   ]
  },
  {
   "cell_type": "code",
   "execution_count": 6,
   "id": "1cd1fe39-63b9-4ceb-8511-82de002a715a",
   "metadata": {
    "tags": []
   },
   "outputs": [],
   "source": [
    "import pandas as pd\n",
    "import on_islem"
   ]
  },
  {
   "cell_type": "code",
   "execution_count": 10,
   "id": "e153384a-a879-4710-9c38-08abd9bc9867",
   "metadata": {
    "tags": []
   },
   "outputs": [
    {
     "data": {
      "text/html": [
       "<div>\n",
       "<style scoped>\n",
       "    .dataframe tbody tr th:only-of-type {\n",
       "        vertical-align: middle;\n",
       "    }\n",
       "\n",
       "    .dataframe tbody tr th {\n",
       "        vertical-align: top;\n",
       "    }\n",
       "\n",
       "    .dataframe thead th {\n",
       "        text-align: right;\n",
       "    }\n",
       "</style>\n",
       "<table border=\"1\" class=\"dataframe\">\n",
       "  <thead>\n",
       "    <tr style=\"text-align: right;\">\n",
       "      <th></th>\n",
       "      <th>Text</th>\n",
       "      <th>Label</th>\n",
       "      <th>Text_2</th>\n",
       "      <th>Text_3</th>\n",
       "    </tr>\n",
       "  </thead>\n",
       "  <tbody>\n",
       "    <tr>\n",
       "      <th>0</th>\n",
       "      <td>Allah'ım çıldıracağım. Yemin ederim çıldıracağ...</td>\n",
       "      <td>kızgın</td>\n",
       "      <td>[allah, çıldıracağım, ye, eder, çıldıracak, si...</td>\n",
       "      <td>allah çıldıracağım ye eder çıldıracak sinirimd...</td>\n",
       "    </tr>\n",
       "    <tr>\n",
       "      <th>1</th>\n",
       "      <td>site ne zaman çalıştıda ürün stokları bitti di...</td>\n",
       "      <td>kızgın</td>\n",
       "      <td>[si, zama, çalıştı, ür, stok, bit, diyor, mal,...</td>\n",
       "      <td>si zama çalıştı ür stok bit diyor mal oğl kand...</td>\n",
       "    </tr>\n",
       "    <tr>\n",
       "      <th>2</th>\n",
       "      <td>Sebebi neydi ki diye bağıracağım şimdi az kaldı</td>\n",
       "      <td>kızgın</td>\n",
       "      <td>[sebep, di, bağıracak, kal]</td>\n",
       "      <td>sebep di bağıracak kal</td>\n",
       "    </tr>\n",
       "    <tr>\n",
       "      <th>3</th>\n",
       "      <td>Black friday ne amk bu yıl çıkardınız bu bokud...</td>\n",
       "      <td>kızgın</td>\n",
       "      <td>[black, friday, amk, yıl, çıkar, boku, mal, ne...</td>\n",
       "      <td>black friday amk yıl çıkar boku mal nesiniz</td>\n",
       "    </tr>\n",
       "    <tr>\n",
       "      <th>4</th>\n",
       "      <td>kısa kısa cevaplar vericeksen niye yazıyorsun ...</td>\n",
       "      <td>kızgın</td>\n",
       "      <td>[kıs, kıs, cevap, vericek, ni, yazıyor, gerize...</td>\n",
       "      <td>kıs kıs cevap vericek ni yazıyor gerizekal</td>\n",
       "    </tr>\n",
       "  </tbody>\n",
       "</table>\n",
       "</div>"
      ],
      "text/plain": [
       "                                                Text   Label  \\\n",
       "0  Allah'ım çıldıracağım. Yemin ederim çıldıracağ...  kızgın   \n",
       "1  site ne zaman çalıştıda ürün stokları bitti di...  kızgın   \n",
       "2    Sebebi neydi ki diye bağıracağım şimdi az kaldı  kızgın   \n",
       "3  Black friday ne amk bu yıl çıkardınız bu bokud...  kızgın   \n",
       "4  kısa kısa cevaplar vericeksen niye yazıyorsun ...  kızgın   \n",
       "\n",
       "                                              Text_2  \\\n",
       "0  [allah, çıldıracağım, ye, eder, çıldıracak, si...   \n",
       "1  [si, zama, çalıştı, ür, stok, bit, diyor, mal,...   \n",
       "2                        [sebep, di, bağıracak, kal]   \n",
       "3  [black, friday, amk, yıl, çıkar, boku, mal, ne...   \n",
       "4  [kıs, kıs, cevap, vericek, ni, yazıyor, gerize...   \n",
       "\n",
       "                                              Text_3  \n",
       "0  allah çıldıracağım ye eder çıldıracak sinirimd...  \n",
       "1  si zama çalıştı ür stok bit diyor mal oğl kand...  \n",
       "2                             sebep di bağıracak kal  \n",
       "3        black friday amk yıl çıkar boku mal nesiniz  \n",
       "4         kıs kıs cevap vericek ni yazıyor gerizekal  "
      ]
     },
     "execution_count": 10,
     "metadata": {},
     "output_type": "execute_result"
    }
   ],
   "source": [
    "df = pd.read_csv(\"data/metin_siniflandirma.csv\", index_col=0)\n",
    "df[\"Text_2\"] = df[\"Text\"].apply(on_islem.pre_processing)\n",
    "df[\"Text_2\"] = df[\"Text_2\"].apply(on_islem.remove_space)\n",
    "df[\"Text_3\"] = [' '.join(wrd for wrd in x) for x in df[\"Text_2\"]]\n",
    "\n",
    "df_index = df[df[\"Text_2\"].str[0].isnull()].index\n",
    "df = df.drop(df_index)\n",
    "df = df.reset_index()\n",
    "del df[\"index\"]\n",
    "df.head()"
   ]
  },
  {
   "cell_type": "code",
   "execution_count": 11,
   "id": "5d8da1d1-ba58-451f-8bb3-04dc109aae33",
   "metadata": {
    "tags": []
   },
   "outputs": [
    {
     "data": {
      "text/plain": [
       "Label\n",
       "korku      800\n",
       "kızgın     799\n",
       "mutlu      800\n",
       "surpriz    800\n",
       "üzgün      799\n",
       "dtype: int64"
      ]
     },
     "execution_count": 11,
     "metadata": {},
     "output_type": "execute_result"
    }
   ],
   "source": [
    "df.groupby(\"Label\").size()"
   ]
  },
  {
   "cell_type": "code",
   "execution_count": 13,
   "id": "1934c5f0-43af-4d0f-b257-82978c02c732",
   "metadata": {
    "tags": []
   },
   "outputs": [],
   "source": [
    "from sklearn.model_selection import train_test_split"
   ]
  },
  {
   "cell_type": "code",
   "execution_count": 29,
   "id": "6ac4f2f0-b0c1-4957-b525-f72db84bed78",
   "metadata": {
    "tags": []
   },
   "outputs": [],
   "source": [
    "msg_train,msg_test,label_train,label_test = train_test_split(df[\"Text_3\"].tolist(),df[\"Label\"].tolist(),test_size=0.2,random_state=42)"
   ]
  },
  {
   "cell_type": "code",
   "execution_count": 30,
   "id": "aadcb821-6ad1-452e-a5ba-b0ec9f3113d1",
   "metadata": {
    "tags": []
   },
   "outputs": [
    {
     "data": {
      "text/plain": [
       "3198"
      ]
     },
     "execution_count": 30,
     "metadata": {},
     "output_type": "execute_result"
    }
   ],
   "source": [
    "len(msg_train)"
   ]
  },
  {
   "cell_type": "code",
   "execution_count": 31,
   "id": "9b12b786-9eb0-45a6-b2f2-9fe27c9ea165",
   "metadata": {
    "tags": []
   },
   "outputs": [
    {
     "data": {
      "text/plain": [
       "800"
      ]
     },
     "execution_count": 31,
     "metadata": {},
     "output_type": "execute_result"
    }
   ],
   "source": [
    "len(msg_test)"
   ]
  },
  {
   "cell_type": "code",
   "execution_count": 33,
   "id": "ba38bd4d-066d-40f5-b2b1-7089d7f9e5f7",
   "metadata": {
    "tags": []
   },
   "outputs": [
    {
     "data": {
      "text/plain": [
       "3198"
      ]
     },
     "execution_count": 33,
     "metadata": {},
     "output_type": "execute_result"
    }
   ],
   "source": [
    "len(label_train)"
   ]
  },
  {
   "cell_type": "code",
   "execution_count": 34,
   "id": "f4c4c469-dc95-41c4-add8-55096b3777f3",
   "metadata": {
    "tags": []
   },
   "outputs": [
    {
     "data": {
      "text/plain": [
       "label\n",
       "korku      164\n",
       "kızgın     169\n",
       "mutlu      160\n",
       "surpriz    155\n",
       "üzgün      152\n",
       "dtype: int64"
      ]
     },
     "execution_count": 34,
     "metadata": {},
     "output_type": "execute_result"
    }
   ],
   "source": [
    "df_test = pd.DataFrame({\"text\":msg_test, 'label':label_test})\n",
    "df_test.groupby(\"label\").size()"
   ]
  },
  {
   "cell_type": "code",
   "execution_count": 35,
   "id": "f9de1fba-c932-494e-abe6-d30723d64705",
   "metadata": {
    "tags": []
   },
   "outputs": [],
   "source": [
    "from sklearn.svm import LinearSVC\n",
    "from sklearn.pipeline import Pipeline\n",
    "from sklearn.feature_extraction.text import TfidfVectorizer"
   ]
  },
  {
   "cell_type": "code",
   "execution_count": 36,
   "id": "4c767779-90c3-4657-af12-50f44c173c35",
   "metadata": {
    "tags": []
   },
   "outputs": [],
   "source": [
    "svm = Pipeline([('vect',TfidfVectorizer()),('svm',LinearSVC())])"
   ]
  },
  {
   "cell_type": "code",
   "execution_count": 37,
   "id": "e70e89c2-7b0d-4077-821b-f61c2d21f711",
   "metadata": {
    "tags": []
   },
   "outputs": [],
   "source": [
    "svm.fit(msg_train, label_train)\n",
    "y_pred_class = svm.predict = svm.predict(msg_test)"
   ]
  },
  {
   "cell_type": "code",
   "execution_count": 42,
   "id": "da12f5d6-8659-4a49-b388-746363013cc9",
   "metadata": {
    "tags": []
   },
   "outputs": [],
   "source": [
    "from sklearn.metrics import f1_score,accuracy_score,confusion_matrix,ConfusionMatrixDisplay"
   ]
  },
  {
   "cell_type": "code",
   "execution_count": 43,
   "id": "f7b393b7-8e28-426f-8c24-cec3d2ed1730",
   "metadata": {
    "tags": []
   },
   "outputs": [
    {
     "name": "stdout",
     "output_type": "stream",
     "text": [
      "svm accuarcy score: 0.98\n"
     ]
    }
   ],
   "source": [
    "print(\"svm accuarcy score:\",accuracy_score(label_test, y_pred_class)) #label_test->gerçek etiket  y_pred_class->makinein ürettiği etiket ve biz bu ikisini karşılaştırıyoruz"
   ]
  },
  {
   "cell_type": "code",
   "execution_count": 45,
   "id": "891e858f-0220-46e2-a8dd-312aa438acab",
   "metadata": {
    "tags": []
   },
   "outputs": [
    {
     "name": "stdout",
     "output_type": "stream",
     "text": [
      "svm f1 score: 0.9800012002533918\n"
     ]
    }
   ],
   "source": [
    "print(\"svm f1 score:\",f1_score(label_test, y_pred_class, average=\"weighted\"))"
   ]
  },
  {
   "cell_type": "code",
   "execution_count": 47,
   "id": "a051bd9b-01c7-4c7a-a6b9-301c85acf1f3",
   "metadata": {
    "tags": []
   },
   "outputs": [
    {
     "data": {
      "text/plain": [
       "label\n",
       "korku      164\n",
       "kızgın     169\n",
       "mutlu      160\n",
       "surpriz    155\n",
       "üzgün      152\n",
       "dtype: int64"
      ]
     },
     "execution_count": 47,
     "metadata": {},
     "output_type": "execute_result"
    }
   ],
   "source": [
    "df_test.groupby(\"label\").size()"
   ]
  },
  {
   "cell_type": "code",
   "execution_count": 52,
   "id": "8c1fa266-faf5-4dc1-bd6e-368a9fc7218f",
   "metadata": {
    "tags": []
   },
   "outputs": [
    {
     "data": {
      "text/html": [
       "<div>\n",
       "<style scoped>\n",
       "    .dataframe tbody tr th:only-of-type {\n",
       "        vertical-align: middle;\n",
       "    }\n",
       "\n",
       "    .dataframe tbody tr th {\n",
       "        vertical-align: top;\n",
       "    }\n",
       "\n",
       "    .dataframe thead th {\n",
       "        text-align: right;\n",
       "    }\n",
       "</style>\n",
       "<table border=\"1\" class=\"dataframe\">\n",
       "  <thead>\n",
       "    <tr style=\"text-align: right;\">\n",
       "      <th></th>\n",
       "      <th>Text</th>\n",
       "      <th>Label</th>\n",
       "      <th>Text_2</th>\n",
       "      <th>Text_3</th>\n",
       "    </tr>\n",
       "  </thead>\n",
       "  <tbody>\n",
       "    <tr>\n",
       "      <th>0</th>\n",
       "      <td>Allah'ım çıldıracağım. Yemin ederim çıldıracağ...</td>\n",
       "      <td>kızgın</td>\n",
       "      <td>[allah, çıldıracağım, ye, eder, çıldıracak, si...</td>\n",
       "      <td>allah çıldıracağım ye eder çıldıracak sinirimd...</td>\n",
       "    </tr>\n",
       "    <tr>\n",
       "      <th>1</th>\n",
       "      <td>site ne zaman çalıştıda ürün stokları bitti di...</td>\n",
       "      <td>kızgın</td>\n",
       "      <td>[si, zama, çalıştı, ür, stok, bit, diyor, mal,...</td>\n",
       "      <td>si zama çalıştı ür stok bit diyor mal oğl kand...</td>\n",
       "    </tr>\n",
       "    <tr>\n",
       "      <th>2</th>\n",
       "      <td>Sebebi neydi ki diye bağıracağım şimdi az kaldı</td>\n",
       "      <td>kızgın</td>\n",
       "      <td>[sebep, di, bağıracak, kal]</td>\n",
       "      <td>sebep di bağıracak kal</td>\n",
       "    </tr>\n",
       "    <tr>\n",
       "      <th>3</th>\n",
       "      <td>Black friday ne amk bu yıl çıkardınız bu bokud...</td>\n",
       "      <td>kızgın</td>\n",
       "      <td>[black, friday, amk, yıl, çıkar, boku, mal, ne...</td>\n",
       "      <td>black friday amk yıl çıkar boku mal nesiniz</td>\n",
       "    </tr>\n",
       "    <tr>\n",
       "      <th>4</th>\n",
       "      <td>kısa kısa cevaplar vericeksen niye yazıyorsun ...</td>\n",
       "      <td>kızgın</td>\n",
       "      <td>[kıs, kıs, cevap, vericek, ni, yazıyor, gerize...</td>\n",
       "      <td>kıs kıs cevap vericek ni yazıyor gerizekal</td>\n",
       "    </tr>\n",
       "  </tbody>\n",
       "</table>\n",
       "</div>"
      ],
      "text/plain": [
       "                                                Text   Label  \\\n",
       "0  Allah'ım çıldıracağım. Yemin ederim çıldıracağ...  kızgın   \n",
       "1  site ne zaman çalıştıda ürün stokları bitti di...  kızgın   \n",
       "2    Sebebi neydi ki diye bağıracağım şimdi az kaldı  kızgın   \n",
       "3  Black friday ne amk bu yıl çıkardınız bu bokud...  kızgın   \n",
       "4  kısa kısa cevaplar vericeksen niye yazıyorsun ...  kızgın   \n",
       "\n",
       "                                              Text_2  \\\n",
       "0  [allah, çıldıracağım, ye, eder, çıldıracak, si...   \n",
       "1  [si, zama, çalıştı, ür, stok, bit, diyor, mal,...   \n",
       "2                        [sebep, di, bağıracak, kal]   \n",
       "3  [black, friday, amk, yıl, çıkar, boku, mal, ne...   \n",
       "4  [kıs, kıs, cevap, vericek, ni, yazıyor, gerize...   \n",
       "\n",
       "                                              Text_3  \n",
       "0  allah çıldıracağım ye eder çıldıracak sinirimd...  \n",
       "1  si zama çalıştı ür stok bit diyor mal oğl kand...  \n",
       "2                             sebep di bağıracak kal  \n",
       "3        black friday amk yıl çıkar boku mal nesiniz  \n",
       "4         kıs kıs cevap vericek ni yazıyor gerizekal  "
      ]
     },
     "execution_count": 52,
     "metadata": {},
     "output_type": "execute_result"
    }
   ],
   "source": [
    "df.head()"
   ]
  },
  {
   "cell_type": "code",
   "execution_count": 48,
   "id": "9fdee467-31c3-4e17-94bf-7683715d6d39",
   "metadata": {
    "tags": []
   },
   "outputs": [
    {
     "data": {
      "text/plain": [
       "<sklearn.metrics._plot.confusion_matrix.ConfusionMatrixDisplay at 0x1957f63f7f0>"
      ]
     },
     "execution_count": 48,
     "metadata": {},
     "output_type": "execute_result"
    },
    {
     "data": {
      "image/png": "[encoded data removed]",
      "text/plain": [
       "<Figure size 640x480 with 2 Axes>"
      ]
     },
     "metadata": {},
     "output_type": "display_data"
    }
   ],
   "source": [
    "cm = confusion_matrix(label_test, y_pred_class, labels=svm.classes_)\n",
    "disp = ConfusionMatrixDisplay(confusion_matrix=cm,display_labels=svm.classes_)\n",
    "disp.plot()"
   ]
  },
  {
   "cell_type": "code",
   "execution_count": 54,
   "id": "2cbd2bff-94c7-412c-b0f5-ac3df18dd7db",
   "metadata": {
    "tags": []
   },
   "outputs": [],
   "source": [
    "from gensim.models import Word2Vec\n",
    "model = Word2Vec.load(\"data/word2vec.model\")\n",
    "model.build_vocab(df[\"Text_2\"].tolist(),update=True)\n",
    "model.save(\"data/word2vec.model\")"
   ]
  },
  {
   "cell_type": "code",
   "execution_count": null,
   "id": "5655309a-a0ea-4c39-be69-783ddbdb2af6",
   "metadata": {
    "tags": []
   },
   "outputs": [],
   "source": [
    "df[\"word2vec\"] = df[\"Text_2\"].apply(on_islem.word2vec)\n",
    "df.head()"
   ]
  },
  {
   "cell_type": "code",
   "execution_count": null,
   "id": "b77ac44e-7e89-469d-a645-a903c1637e97",
   "metadata": {
    "tags": []
   },
   "outputs": [],
   "source": [
    "msg_train,msg_test,label_train,label_test = train_test_split(df[\"word2vec\"].tolist(),df[\"Label\"].tolist(),test_size=0.2,random_state=42)\n",
    "svm = Pipeline([('svm',LinearSVC())])\n",
    "svm.fit(msg_train, label_train)\n",
    "y_pred_class = svm.predict = svm.predict(msg_test)\n",
    "\n",
    "print(\"svm accuarcy score:\",accuracy_score(label_test, y_pred_class))\n",
    "print(\"svm f1 score:\",f1_score(label_test, y_pred_class, average=\"weighted\"))"
   ]
  },
  {
   "cell_type": "code",
   "execution_count": null,
   "id": "d1dfbd10-0bf0-400d-b160-49b0a91bd060",
   "metadata": {
    "tags": []
   },
   "outputs": [],
   "source": [
    "cm = confusion_matrix(label_test, y_pred_class, labels=svm.classes_)\n",
    "disp = ConfusionMatrixDisplay(confusion_matrix=cm,display_labels=svm.classes_)\n",
    "disp.plot()"
   ]
  },
  {
   "cell_type": "code",
   "execution_count": null,
   "id": "66c3696d-af9c-4eb9-aeb2-dc2c85e986af",
   "metadata": {
    "tags": []
   },
   "outputs": [],
   "source": [
    "df.head()"
   ]
  },
  {
   "cell_type": "code",
   "execution_count": null,
   "id": "0e83eeac-1eef-41ea-9913-46e04278143c",
   "metadata": {
    "tags": []
   },
   "outputs": [],
   "source": [
    "from sklearn.neighbors import KNeighborsClassifier\n",
    "\n",
    "msg_train,msg_test,label_train,label_test = train_test_split(df[\"Text_3\"].tolist(),df[\"Label\"].tolist(),test_size=0.2,random_state=42)\n",
    "knn = Pipeline([('vect',TfidfVectorizer()),('knn',KNeighborsClassifier())])\n",
    "knn.fit(msg_train, label_train)\n",
    "y_pred_class = knn.predict = svm.predict(msg_test)\n",
    "\n",
    "print(\"knn accuarcy score:\",accuracy_score(label_test, y_pred_class))\n",
    "print(\"knn f1 score:\",f1_score(label_test, y_pred_class, average=\"weighted\"))"
   ]
  },
  {
   "cell_type": "code",
   "execution_count": null,
   "id": "2c9f1d0e-105d-4776-9fa1-cf5cd9f9f4de",
   "metadata": {
    "tags": []
   },
   "outputs": [],
   "source": [
    "from sklearn.neighbors import KNeighborsClassifier\n",
    "\n",
    "msg_train,msg_test,label_train,label_test = train_test_split(df[\"word2vec\"].tolist(),df[\"Label\"].tolist(),test_size=0.2,random_state=42)\n",
    "knn = Pipeline([('knn',KNeighborsClassifier())])\n",
    "knn.fit(msg_train, label_train)\n",
    "y_pred_class = knn.predict = svm.predict(msg_test)\n",
    "\n",
    "print(\"knn accuarcy score:\",accuracy_score(label_test, y_pred_class))\n",
    "print(\"knn f1 score:\",f1_score(label_test, y_pred_class, average=\"weighted\"))"
   ]
  },
  {
   "cell_type": "code",
   "execution_count": null,
   "id": "b5e494af-ad42-4fc9-9729-541a4e5e8d46",
   "metadata": {},
   "outputs": [],
   "source": []
  }
 ],
 "metadata": {
  "kernelspec": {
   "display_name": "Python 3 (ipykernel)",
   "language": "python",
   "name": "python3"
  },
  "language_info": {
   "codemirror_mode": {
    "name": "ipython",
    "version": 3
   },
   "file_extension": ".py",
   "mimetype": "text/x-python",
   "name": "python",
   "nbconvert_exporter": "python",
   "pygments_lexer": "ipython3",
   "version": "3.10.9"
  }
 },
 "nbformat": 4,
 "nbformat_minor": 5
}
