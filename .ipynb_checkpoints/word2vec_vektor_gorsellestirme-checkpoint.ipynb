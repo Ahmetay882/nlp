{
 "cells": [
  {
   "cell_type": "markdown",
   "id": "b16cd536-ab89-4116-abba-6920dc7580ac",
   "metadata": {},
   "source": [
    "# Word2Vec Vektör Görselleştirme"
   ]
  },
  {
   "cell_type": "code",
   "execution_count": 24,
   "id": "8b040e36-357f-4a3e-ad00-a7c6282dd875",
   "metadata": {
    "tags": []
   },
   "outputs": [],
   "source": [
    "from gensim.models import Word2Vec"
   ]
  },
  {
   "cell_type": "code",
   "execution_count": 25,
   "id": "cc624fd1-1ab3-4ab0-80c6-73ba9de106c1",
   "metadata": {
    "tags": []
   },
   "outputs": [],
   "source": [
    "model = Word2Vec.load(\"data/word2vec.model\")"
   ]
  },
  {
   "cell_type": "code",
   "execution_count": 26,
   "id": "45254279-1344-4161-a1e3-8d5551fa5c8b",
   "metadata": {
    "tags": []
   },
   "outputs": [
    {
     "data": {
      "text/plain": [
       "['dil', 'doğal', 'işle', 'yapay', 'zeka', 'il']"
      ]
     },
     "execution_count": 26,
     "metadata": {},
     "output_type": "execute_result"
    }
   ],
   "source": [
    "words = list(model.wv.index_to_key)\n",
    "words[0:6]"
   ]
  },
  {
   "cell_type": "code",
   "execution_count": 27,
   "id": "82e24fb9-f41c-4752-aae3-74e725d05a7e",
   "metadata": {
    "tags": []
   },
   "outputs": [],
   "source": [
    "import pandas as pd"
   ]
  },
  {
   "cell_type": "code",
   "execution_count": 28,
   "id": "eb512101-939a-4e95-a71a-8c9498ef0210",
   "metadata": {
    "tags": []
   },
   "outputs": [
    {
     "data": {
      "text/html": [
       "<div>\n",
       "<style scoped>\n",
       "    .dataframe tbody tr th:only-of-type {\n",
       "        vertical-align: middle;\n",
       "    }\n",
       "\n",
       "    .dataframe tbody tr th {\n",
       "        vertical-align: top;\n",
       "    }\n",
       "\n",
       "    .dataframe thead th {\n",
       "        text-align: right;\n",
       "    }\n",
       "</style>\n",
       "<table border=\"1\" class=\"dataframe\">\n",
       "  <thead>\n",
       "    <tr style=\"text-align: right;\">\n",
       "      <th></th>\n",
       "      <th>name</th>\n",
       "      <th>count</th>\n",
       "    </tr>\n",
       "  </thead>\n",
       "  <tbody>\n",
       "    <tr>\n",
       "      <th>0</th>\n",
       "      <td>dil</td>\n",
       "      <td>962</td>\n",
       "    </tr>\n",
       "    <tr>\n",
       "      <th>1</th>\n",
       "      <td>doğal</td>\n",
       "      <td>822</td>\n",
       "    </tr>\n",
       "    <tr>\n",
       "      <th>2</th>\n",
       "      <td>işle</td>\n",
       "      <td>733</td>\n",
       "    </tr>\n",
       "    <tr>\n",
       "      <th>3</th>\n",
       "      <td>yapay</td>\n",
       "      <td>304</td>\n",
       "    </tr>\n",
       "    <tr>\n",
       "      <th>4</th>\n",
       "      <td>zeka</td>\n",
       "      <td>269</td>\n",
       "    </tr>\n",
       "  </tbody>\n",
       "</table>\n",
       "</div>"
      ],
      "text/plain": [
       "    name  count\n",
       "0    dil    962\n",
       "1  doğal    822\n",
       "2   işle    733\n",
       "3  yapay    304\n",
       "4   zeka    269"
      ]
     },
     "execution_count": 28,
     "metadata": {},
     "output_type": "execute_result"
    }
   ],
   "source": [
    "df_name = []\n",
    "df_count = []\n",
    "\n",
    "for i in words:\n",
    "    df_name.append(i)\n",
    "    df_count.append(model.wv.get_vecattr(i, \"count\"))\n",
    "    \n",
    "df = pd.DataFrame({\"name\":df_name, \"count\":df_count})\n",
    "df.head()"
   ]
  },
  {
   "cell_type": "code",
   "execution_count": 29,
   "id": "97b06a12-f814-4413-adc3-c824b2777a04",
   "metadata": {
    "tags": []
   },
   "outputs": [
    {
     "data": {
      "text/html": [
       "<div>\n",
       "<style scoped>\n",
       "    .dataframe tbody tr th:only-of-type {\n",
       "        vertical-align: middle;\n",
       "    }\n",
       "\n",
       "    .dataframe tbody tr th {\n",
       "        vertical-align: top;\n",
       "    }\n",
       "\n",
       "    .dataframe thead th {\n",
       "        text-align: right;\n",
       "    }\n",
       "</style>\n",
       "<table border=\"1\" class=\"dataframe\">\n",
       "  <thead>\n",
       "    <tr style=\"text-align: right;\">\n",
       "      <th></th>\n",
       "      <th>name</th>\n",
       "      <th>count</th>\n",
       "    </tr>\n",
       "  </thead>\n",
       "  <tbody>\n",
       "    <tr>\n",
       "      <th>0</th>\n",
       "      <td>dil</td>\n",
       "      <td>962</td>\n",
       "    </tr>\n",
       "    <tr>\n",
       "      <th>1</th>\n",
       "      <td>doğal</td>\n",
       "      <td>822</td>\n",
       "    </tr>\n",
       "    <tr>\n",
       "      <th>2</th>\n",
       "      <td>işle</td>\n",
       "      <td>733</td>\n",
       "    </tr>\n",
       "    <tr>\n",
       "      <th>6</th>\n",
       "      <td>iç</td>\n",
       "      <td>514</td>\n",
       "    </tr>\n",
       "    <tr>\n",
       "      <th>89</th>\n",
       "      <td>ben</td>\n",
       "      <td>421</td>\n",
       "    </tr>\n",
       "  </tbody>\n",
       "</table>\n",
       "</div>"
      ],
      "text/plain": [
       "     name  count\n",
       "0     dil    962\n",
       "1   doğal    822\n",
       "2    işle    733\n",
       "6      iç    514\n",
       "89    ben    421"
      ]
     },
     "execution_count": 29,
     "metadata": {},
     "output_type": "execute_result"
    }
   ],
   "source": [
    "df.sort_values(\"count\", ascending=False).head()"
   ]
  },
  {
   "cell_type": "code",
   "execution_count": 30,
   "id": "8637b8e7-fdaf-441b-a847-388fd7bbcc42",
   "metadata": {
    "tags": []
   },
   "outputs": [
    {
     "data": {
      "text/html": [
       "<div>\n",
       "<style scoped>\n",
       "    .dataframe tbody tr th:only-of-type {\n",
       "        vertical-align: middle;\n",
       "    }\n",
       "\n",
       "    .dataframe tbody tr th {\n",
       "        vertical-align: top;\n",
       "    }\n",
       "\n",
       "    .dataframe thead th {\n",
       "        text-align: right;\n",
       "    }\n",
       "</style>\n",
       "<table border=\"1\" class=\"dataframe\">\n",
       "  <thead>\n",
       "    <tr style=\"text-align: right;\">\n",
       "      <th></th>\n",
       "      <th>name</th>\n",
       "      <th>count</th>\n",
       "    </tr>\n",
       "  </thead>\n",
       "  <tbody>\n",
       "    <tr>\n",
       "      <th>0</th>\n",
       "      <td>dil</td>\n",
       "      <td>962</td>\n",
       "    </tr>\n",
       "    <tr>\n",
       "      <th>1</th>\n",
       "      <td>doğal</td>\n",
       "      <td>822</td>\n",
       "    </tr>\n",
       "    <tr>\n",
       "      <th>2</th>\n",
       "      <td>işle</td>\n",
       "      <td>733</td>\n",
       "    </tr>\n",
       "    <tr>\n",
       "      <th>3</th>\n",
       "      <td>yapay</td>\n",
       "      <td>304</td>\n",
       "    </tr>\n",
       "    <tr>\n",
       "      <th>4</th>\n",
       "      <td>zeka</td>\n",
       "      <td>269</td>\n",
       "    </tr>\n",
       "    <tr>\n",
       "      <th>...</th>\n",
       "      <td>...</td>\n",
       "      <td>...</td>\n",
       "    </tr>\n",
       "    <tr>\n",
       "      <th>10692</th>\n",
       "      <td>hatırlamak</td>\n",
       "      <td>1</td>\n",
       "    </tr>\n",
       "    <tr>\n",
       "      <th>10693</th>\n",
       "      <td>istemedikçe</td>\n",
       "      <td>1</td>\n",
       "    </tr>\n",
       "    <tr>\n",
       "      <th>10694</th>\n",
       "      <td>fiyasko</td>\n",
       "      <td>1</td>\n",
       "    </tr>\n",
       "    <tr>\n",
       "      <th>10695</th>\n",
       "      <td>çıkarıp</td>\n",
       "      <td>1</td>\n",
       "    </tr>\n",
       "    <tr>\n",
       "      <th>10696</th>\n",
       "      <td>alıcak</td>\n",
       "      <td>1</td>\n",
       "    </tr>\n",
       "  </tbody>\n",
       "</table>\n",
       "<p>10697 rows × 2 columns</p>\n",
       "</div>"
      ],
      "text/plain": [
       "              name  count\n",
       "0              dil    962\n",
       "1            doğal    822\n",
       "2             işle    733\n",
       "3            yapay    304\n",
       "4             zeka    269\n",
       "...            ...    ...\n",
       "10692   hatırlamak      1\n",
       "10693  istemedikçe      1\n",
       "10694      fiyasko      1\n",
       "10695      çıkarıp      1\n",
       "10696       alıcak      1\n",
       "\n",
       "[10697 rows x 2 columns]"
      ]
     },
     "execution_count": 30,
     "metadata": {},
     "output_type": "execute_result"
    }
   ],
   "source": [
    "df"
   ]
  },
  {
   "cell_type": "code",
   "execution_count": 31,
   "id": "dbd91983-a242-40d7-89e0-b7848fff0215",
   "metadata": {
    "tags": []
   },
   "outputs": [
    {
     "data": {
      "text/plain": [
       "[('dil', 0.9989959001541138),\n",
       " ('işle', 0.9987336993217468),\n",
       " ('iç', 0.9987024068832397),\n",
       " ('yapay', 0.9986445903778076),\n",
       " ('olarak', 0.9983895421028137),\n",
       " ('il', 0.998386800289154),\n",
       " ('zeka', 0.9983227252960205),\n",
       " ('dah', 0.998312771320343),\n",
       " ('gip', 0.9980441927909851),\n",
       " ('iş', 0.9980183839797974)]"
      ]
     },
     "execution_count": 31,
     "metadata": {},
     "output_type": "execute_result"
    }
   ],
   "source": [
    "model.wv.most_similar([\"doğal\"])"
   ]
  },
  {
   "cell_type": "code",
   "execution_count": 32,
   "id": "a7596553-e2f5-4bd2-9a3c-df5620e2e191",
   "metadata": {
    "tags": []
   },
   "outputs": [
    {
     "data": {
      "text/plain": [
       "[('iç', 0.999093770980835),\n",
       " ('doğal', 0.9989960789680481),\n",
       " ('dah', 0.99885094165802),\n",
       " ('yapay', 0.9987738728523254),\n",
       " ('işle', 0.9987685084342957),\n",
       " ('olarak', 0.998701274394989),\n",
       " ('il', 0.9986147880554199),\n",
       " ('zeka', 0.9984176754951477),\n",
       " ('türkçe', 0.9983814358711243),\n",
       " ('var', 0.9982227683067322)]"
      ]
     },
     "execution_count": 32,
     "metadata": {},
     "output_type": "execute_result"
    }
   ],
   "source": [
    "model.wv.most_similar([\"dil\"])"
   ]
  },
  {
   "cell_type": "code",
   "execution_count": 33,
   "id": "3c332469-86b7-4959-81ca-108384960308",
   "metadata": {
    "tags": []
   },
   "outputs": [
    {
     "data": {
      "text/plain": [
       "[('iç', 0.9988319277763367),\n",
       " ('dil', 0.9987685680389404),\n",
       " ('doğal', 0.9987338781356812),\n",
       " ('yapay', 0.9985160827636719),\n",
       " ('olarak', 0.9985044598579407),\n",
       " ('zeka', 0.998446524143219),\n",
       " ('il', 0.9984024167060852),\n",
       " ('dah', 0.9982218742370605),\n",
       " ('alan', 0.9980417490005493),\n",
       " ('ola', 0.9978750944137573)]"
      ]
     },
     "execution_count": 33,
     "metadata": {},
     "output_type": "execute_result"
    }
   ],
   "source": [
    "model.wv.most_similar([\"işle\"])"
   ]
  },
  {
   "cell_type": "code",
   "execution_count": 34,
   "id": "e0fba61a-c44c-4222-8fba-f138363c5c7d",
   "metadata": {
    "tags": []
   },
   "outputs": [
    {
     "data": {
      "text/plain": [
       "0.998996"
      ]
     },
     "execution_count": 34,
     "metadata": {},
     "output_type": "execute_result"
    }
   ],
   "source": [
    "model.wv.similarity(\"doğal\", \"dil\")"
   ]
  },
  {
   "cell_type": "code",
   "execution_count": 35,
   "id": "608b4463-5682-4baf-ad9d-ec1f8a0a092c",
   "metadata": {
    "tags": []
   },
   "outputs": [],
   "source": [
    "import numpy as np"
   ]
  },
  {
   "cell_type": "code",
   "execution_count": 36,
   "id": "ee7a036d-a640-4ef1-883d-5d615eafb56e",
   "metadata": {
    "tags": []
   },
   "outputs": [
    {
     "data": {
      "text/plain": [
       "array([], shape=(0, 100), dtype=float32)"
      ]
     },
     "execution_count": 36,
     "metadata": {},
     "output_type": "execute_result"
    }
   ],
   "source": [
    "arr = np.empty((0,100), dtype='f')\n",
    "arr"
   ]
  },
  {
   "cell_type": "code",
   "execution_count": 37,
   "id": "08ff75c0-78eb-4002-90ee-952a9bb838e4",
   "metadata": {
    "tags": []
   },
   "outputs": [
    {
     "data": {
      "text/plain": [
       "['işle']"
      ]
     },
     "execution_count": 37,
     "metadata": {},
     "output_type": "execute_result"
    }
   ],
   "source": [
    "word = \"işle\"\n",
    "word_labels = [word]\n",
    "word_labels"
   ]
  },
  {
   "cell_type": "code",
   "execution_count": 38,
   "id": "38cd541b-c310-4464-b5d4-9666c8d8e026",
   "metadata": {
    "tags": []
   },
   "outputs": [
    {
     "data": {
      "text/plain": [
       "[('iç', 0.9988319277763367),\n",
       " ('dil', 0.9987685680389404),\n",
       " ('doğal', 0.9987338781356812),\n",
       " ('yapay', 0.9985160827636719),\n",
       " ('olarak', 0.9985044598579407),\n",
       " ('zeka', 0.998446524143219),\n",
       " ('il', 0.9984024167060852),\n",
       " ('dah', 0.9982218742370605),\n",
       " ('alan', 0.9980417490005493),\n",
       " ('ola', 0.9978750944137573)]"
      ]
     },
     "execution_count": 38,
     "metadata": {},
     "output_type": "execute_result"
    }
   ],
   "source": [
    "close_words = model.wv.most_similar([word])\n",
    "close_words"
   ]
  },
  {
   "cell_type": "code",
   "execution_count": 39,
   "id": "c2f4eb40-d820-4828-92ec-ee5283f7910b",
   "metadata": {
    "tags": []
   },
   "outputs": [
    {
     "data": {
      "text/plain": [
       "array([[-7.69467056e-02,  1.82619497e-01,  5.95802367e-02,\n",
       "        -6.93961680e-02,  7.51917483e-03, -2.98412532e-01,\n",
       "         6.67512566e-02,  4.29895937e-01, -2.08192408e-01,\n",
       "        -9.58838612e-02, -5.41213043e-02, -3.77751470e-01,\n",
       "         1.59371812e-02,  1.57314554e-01,  3.87071603e-04,\n",
       "        -1.65612891e-01,  4.79662828e-02, -2.46980652e-01,\n",
       "        -5.09812087e-02, -4.69783098e-01,  2.71651316e-02,\n",
       "        -1.42113958e-02,  1.74123466e-01, -1.02280967e-01,\n",
       "        -3.83242667e-02, -1.81046762e-02, -1.07267536e-01,\n",
       "        -5.83755597e-02, -1.91316783e-01,  8.51792097e-02,\n",
       "         2.55325437e-01, -1.49619021e-02,  6.11409433e-02,\n",
       "        -2.02835903e-01, -5.45914620e-02,  2.24078491e-01,\n",
       "         9.74430069e-02, -2.23751947e-01, -1.20208301e-01,\n",
       "        -3.44310999e-01,  3.42043079e-02, -2.10584551e-01,\n",
       "        -7.22560212e-02, -1.14270132e-02,  1.65857643e-01,\n",
       "        -1.19816154e-01, -2.28528604e-01, -2.70629767e-02,\n",
       "         8.83955657e-02,  1.25442863e-01,  5.18791676e-02,\n",
       "        -1.63012981e-01, -6.02581128e-02,  3.12556736e-02,\n",
       "        -1.40981838e-01,  2.10803542e-02,  1.48664236e-01,\n",
       "        -1.08865574e-01, -1.91052288e-01, -6.03421545e-03,\n",
       "         6.88524619e-02,  5.17602935e-02,  7.39694983e-02,\n",
       "         7.33615160e-02, -2.33992770e-01,  2.47038007e-01,\n",
       "         9.00825560e-02,  1.44418702e-01, -2.56157637e-01,\n",
       "         2.78204024e-01, -6.15666211e-02,  1.13896467e-01,\n",
       "         3.02064061e-01, -2.04359870e-02,  2.97134638e-01,\n",
       "         9.97532681e-02,  3.31090838e-02, -1.61304791e-02,\n",
       "        -2.50476927e-01,  5.48987649e-02, -1.67321473e-01,\n",
       "        -1.01732813e-01, -2.01654971e-01,  2.77438432e-01,\n",
       "        -9.28633511e-02, -3.82320993e-02,  7.65560474e-03,\n",
       "         1.48063481e-01,  2.33140543e-01,  1.21710613e-01,\n",
       "         2.41373613e-01,  9.21527743e-02,  1.35259628e-01,\n",
       "        -3.93620171e-02,  3.78891408e-01,  2.43219107e-01,\n",
       "         1.15661390e-01, -1.91761151e-01,  8.05252939e-02,\n",
       "        -2.79077347e-02]], dtype=float32)"
      ]
     },
     "execution_count": 39,
     "metadata": {},
     "output_type": "execute_result"
    }
   ],
   "source": [
    "arr = np.append(arr, np.array([model.wv.get_vector(word)]),axis=0)\n",
    "arr"
   ]
  },
  {
   "cell_type": "code",
   "execution_count": 40,
   "id": "8ead58cc-a50a-4cbd-90be-5dd9a5fa8ae5",
   "metadata": {
    "tags": []
   },
   "outputs": [],
   "source": [
    "for word_score in close_words:\n",
    "    wrd_vector = model.wv.get_vector(word_score[0])\n",
    "    word_labels.append(word_score[0])\n",
    "    arr = np.append(arr, np.array([wrd_vector]),axis=0)"
   ]
  },
  {
   "cell_type": "code",
   "execution_count": 41,
   "id": "27f33634-2ab4-4834-ad65-c79fe124bf04",
   "metadata": {
    "tags": []
   },
   "outputs": [
    {
     "data": {
      "text/plain": [
       "array([[-0.07694671,  0.1826195 ,  0.05958024, ..., -0.19176115,\n",
       "         0.08052529, -0.02790773],\n",
       "       [-0.06683029,  0.17434488,  0.06577127, ..., -0.19955452,\n",
       "         0.07069445, -0.01611632],\n",
       "       [-0.10654556,  0.25341523,  0.10013319, ..., -0.2813356 ,\n",
       "         0.10476237, -0.02459876],\n",
       "       ...,\n",
       "       [-0.05669197,  0.15023863,  0.06453616, ..., -0.16859646,\n",
       "         0.06482721, -0.02634447],\n",
       "       [-0.05582891,  0.11655576,  0.04441177, ..., -0.10806572,\n",
       "         0.0495034 , -0.01780752],\n",
       "       [-0.05490715,  0.10954124,  0.0335113 , ..., -0.11841559,\n",
       "         0.05140685, -0.01121555]], dtype=float32)"
      ]
     },
     "execution_count": 41,
     "metadata": {},
     "output_type": "execute_result"
    }
   ],
   "source": [
    "arr"
   ]
  },
  {
   "cell_type": "code",
   "execution_count": 42,
   "id": "b1f9a8a6-7770-4df7-80fe-902606c21e56",
   "metadata": {
    "tags": []
   },
   "outputs": [
    {
     "data": {
      "text/plain": [
       "11"
      ]
     },
     "execution_count": 42,
     "metadata": {},
     "output_type": "execute_result"
    }
   ],
   "source": [
    "len(arr)"
   ]
  },
  {
   "cell_type": "code",
   "execution_count": 43,
   "id": "e08c402f-abeb-40dd-950c-8e37936eae1c",
   "metadata": {
    "tags": []
   },
   "outputs": [],
   "source": [
    "from sklearn.manifold import TSNE "
   ]
  },
  {
   "cell_type": "code",
   "execution_count": 48,
   "id": "02b3df9d-f7f3-4751-aae5-7c357bd88c72",
   "metadata": {
    "tags": []
   },
   "outputs": [
    {
     "ename": "ValueError",
     "evalue": "perplexity must be less than n_samples",
     "output_type": "error",
     "traceback": [
      "\u001b[1;31m---------------------------------------------------------------------------\u001b[0m",
      "\u001b[1;31mValueError\u001b[0m                                Traceback (most recent call last)",
      "Cell \u001b[1;32mIn[48], line 3\u001b[0m\n\u001b[0;32m      1\u001b[0m tsne \u001b[38;5;241m=\u001b[39m TSNE(n_components\u001b[38;5;241m=\u001b[39m\u001b[38;5;241m2\u001b[39m, random_state\u001b[38;5;241m=\u001b[39m\u001b[38;5;241m42\u001b[39m)\n\u001b[0;32m      2\u001b[0m np\u001b[38;5;241m.\u001b[39mprintoptions(suppress\u001b[38;5;241m=\u001b[39m\u001b[38;5;28;01mTrue\u001b[39;00m)\n\u001b[1;32m----> 3\u001b[0m Y \u001b[38;5;241m=\u001b[39m \u001b[43mtsne\u001b[49m\u001b[38;5;241;43m.\u001b[39;49m\u001b[43mfit_transform\u001b[49m\u001b[43m(\u001b[49m\u001b[43marr\u001b[49m\u001b[43m)\u001b[49m\n",
      "File \u001b[1;32m~\\anaconda3\\lib\\site-packages\\sklearn\\manifold\\_t_sne.py:1118\u001b[0m, in \u001b[0;36mTSNE.fit_transform\u001b[1;34m(self, X, y)\u001b[0m\n\u001b[0;32m   1097\u001b[0m \u001b[38;5;124;03m\"\"\"Fit X into an embedded space and return that transformed output.\u001b[39;00m\n\u001b[0;32m   1098\u001b[0m \n\u001b[0;32m   1099\u001b[0m \u001b[38;5;124;03mParameters\u001b[39;00m\n\u001b[1;32m   (...)\u001b[0m\n\u001b[0;32m   1115\u001b[0m \u001b[38;5;124;03m    Embedding of the training data in low-dimensional space.\u001b[39;00m\n\u001b[0;32m   1116\u001b[0m \u001b[38;5;124;03m\"\"\"\u001b[39;00m\n\u001b[0;32m   1117\u001b[0m \u001b[38;5;28mself\u001b[39m\u001b[38;5;241m.\u001b[39m_validate_params()\n\u001b[1;32m-> 1118\u001b[0m \u001b[38;5;28;43mself\u001b[39;49m\u001b[38;5;241;43m.\u001b[39;49m\u001b[43m_check_params_vs_input\u001b[49m\u001b[43m(\u001b[49m\u001b[43mX\u001b[49m\u001b[43m)\u001b[49m\n\u001b[0;32m   1119\u001b[0m embedding \u001b[38;5;241m=\u001b[39m \u001b[38;5;28mself\u001b[39m\u001b[38;5;241m.\u001b[39m_fit(X)\n\u001b[0;32m   1120\u001b[0m \u001b[38;5;28mself\u001b[39m\u001b[38;5;241m.\u001b[39membedding_ \u001b[38;5;241m=\u001b[39m embedding\n",
      "File \u001b[1;32m~\\anaconda3\\lib\\site-packages\\sklearn\\manifold\\_t_sne.py:829\u001b[0m, in \u001b[0;36mTSNE._check_params_vs_input\u001b[1;34m(self, X)\u001b[0m\n\u001b[0;32m    827\u001b[0m \u001b[38;5;28;01mdef\u001b[39;00m \u001b[38;5;21m_check_params_vs_input\u001b[39m(\u001b[38;5;28mself\u001b[39m, X):\n\u001b[0;32m    828\u001b[0m     \u001b[38;5;28;01mif\u001b[39;00m \u001b[38;5;28mself\u001b[39m\u001b[38;5;241m.\u001b[39mperplexity \u001b[38;5;241m>\u001b[39m\u001b[38;5;241m=\u001b[39m X\u001b[38;5;241m.\u001b[39mshape[\u001b[38;5;241m0\u001b[39m]:\n\u001b[1;32m--> 829\u001b[0m         \u001b[38;5;28;01mraise\u001b[39;00m \u001b[38;5;167;01mValueError\u001b[39;00m(\u001b[38;5;124m\"\u001b[39m\u001b[38;5;124mperplexity must be less than n_samples\u001b[39m\u001b[38;5;124m\"\u001b[39m)\n",
      "\u001b[1;31mValueError\u001b[0m: perplexity must be less than n_samples"
     ]
    }
   ],
   "source": [
    "tsne = TSNE(n_components=2, random_state=42)\n",
    "np.printoptions(suppress=True)\n",
    "Y = tsne.fit_transform(arr)"
   ]
  },
  {
   "cell_type": "code",
   "execution_count": 45,
   "id": "fd966ca6-23cf-4c84-83c8-fa89e138612c",
   "metadata": {
    "tags": []
   },
   "outputs": [
    {
     "ename": "NameError",
     "evalue": "name 'Y' is not defined",
     "output_type": "error",
     "traceback": [
      "\u001b[1;31m---------------------------------------------------------------------------\u001b[0m",
      "\u001b[1;31mNameError\u001b[0m                                 Traceback (most recent call last)",
      "Cell \u001b[1;32mIn[45], line 1\u001b[0m\n\u001b[1;32m----> 1\u001b[0m \u001b[43mY\u001b[49m\n",
      "\u001b[1;31mNameError\u001b[0m: name 'Y' is not defined"
     ]
    }
   ],
   "source": [
    "Y"
   ]
  },
  {
   "cell_type": "code",
   "execution_count": 49,
   "id": "f2b78ea2-33d5-44b6-ade4-a4a5cb28f7ea",
   "metadata": {
    "tags": []
   },
   "outputs": [
    {
     "ename": "NameError",
     "evalue": "name 'Y' is not defined",
     "output_type": "error",
     "traceback": [
      "\u001b[1;31m---------------------------------------------------------------------------\u001b[0m",
      "\u001b[1;31mNameError\u001b[0m                                 Traceback (most recent call last)",
      "Cell \u001b[1;32mIn[49], line 1\u001b[0m\n\u001b[1;32m----> 1\u001b[0m x_cords \u001b[38;5;241m=\u001b[39m \u001b[43mY\u001b[49m[:\u001b[38;5;241m0\u001b[39m]\n\u001b[0;32m      2\u001b[0m x_cords\n",
      "\u001b[1;31mNameError\u001b[0m: name 'Y' is not defined"
     ]
    }
   ],
   "source": [
    "x_cords = Y[:0]\n",
    "x_cords"
   ]
  },
  {
   "cell_type": "code",
   "execution_count": 50,
   "id": "49b20155-265c-401a-8933-6ec1ef5a320b",
   "metadata": {
    "tags": []
   },
   "outputs": [
    {
     "ename": "NameError",
     "evalue": "name 'Y' is not defined",
     "output_type": "error",
     "traceback": [
      "\u001b[1;31m---------------------------------------------------------------------------\u001b[0m",
      "\u001b[1;31mNameError\u001b[0m                                 Traceback (most recent call last)",
      "Cell \u001b[1;32mIn[50], line 1\u001b[0m\n\u001b[1;32m----> 1\u001b[0m y_cords \u001b[38;5;241m=\u001b[39m \u001b[43mY\u001b[49m[:\u001b[38;5;241m1\u001b[39m]\n\u001b[0;32m      2\u001b[0m y_cords\n",
      "\u001b[1;31mNameError\u001b[0m: name 'Y' is not defined"
     ]
    }
   ],
   "source": [
    "y_cords = Y[:1]\n",
    "y_cords"
   ]
  },
  {
   "cell_type": "code",
   "execution_count": 51,
   "id": "5e103584-0209-4269-8d20-79af90be4d81",
   "metadata": {
    "tags": []
   },
   "outputs": [
    {
     "data": {
      "text/plain": [
       "['işle',\n",
       " 'iç',\n",
       " 'dil',\n",
       " 'doğal',\n",
       " 'yapay',\n",
       " 'olarak',\n",
       " 'zeka',\n",
       " 'il',\n",
       " 'dah',\n",
       " 'alan',\n",
       " 'ola']"
      ]
     },
     "execution_count": 51,
     "metadata": {},
     "output_type": "execute_result"
    }
   ],
   "source": [
    "word_labels"
   ]
  },
  {
   "cell_type": "code",
   "execution_count": 52,
   "id": "ef384bb3-ab79-434c-ab55-58f11b77bdf2",
   "metadata": {
    "tags": []
   },
   "outputs": [
    {
     "name": "stdout",
     "output_type": "stream",
     "text": [
      "Requirement already satisfied: plotly in c:\\users\\ayahm\\anaconda3\\lib\\site-packages (5.9.0)\n",
      "Requirement already satisfied: tenacity>=6.2.0 in c:\\users\\ayahm\\anaconda3\\lib\\site-packages (from plotly) (8.0.1)\n"
     ]
    }
   ],
   "source": [
    "!pip install plotly"
   ]
  },
  {
   "cell_type": "code",
   "execution_count": 53,
   "id": "4039a6f4-afbb-4280-a3ef-e1f4149805fc",
   "metadata": {
    "tags": []
   },
   "outputs": [],
   "source": [
    "import plotly.express as px "
   ]
  },
  {
   "cell_type": "code",
   "execution_count": 54,
   "id": "560c4d2a-0d55-4ffd-9449-3c05833499b1",
   "metadata": {
    "tags": []
   },
   "outputs": [
    {
     "ename": "NameError",
     "evalue": "name 'x_cords' is not defined",
     "output_type": "error",
     "traceback": [
      "\u001b[1;31m---------------------------------------------------------------------------\u001b[0m",
      "\u001b[1;31mNameError\u001b[0m                                 Traceback (most recent call last)",
      "Cell \u001b[1;32mIn[54], line 1\u001b[0m\n\u001b[1;32m----> 1\u001b[0m fig\u001b[38;5;241m=\u001b[39mpx\u001b[38;5;241m.\u001b[39mscatter(x\u001b[38;5;241m=\u001b[39m\u001b[43mx_cords\u001b[49m\u001b[38;5;241m.\u001b[39mtolist(), y\u001b[38;5;241m=\u001b[39my_cords\u001b[38;5;241m.\u001b[39mtolist(), text\u001b[38;5;241m=\u001b[39mword_labels, size_max\u001b[38;5;241m=\u001b[39m\u001b[38;5;241m100\u001b[39m)\n\u001b[0;32m      2\u001b[0m fig_update_layout(height\u001b[38;5;241m=\u001b[39m\u001b[38;5;241m800\u001b[39m, title_text\u001b[38;5;241m=\u001b[39m\u001b[38;5;124m\"\u001b[39m\u001b[38;5;124mWord2Vec Most Similarity\u001b[39m\u001b[38;5;124m\"\u001b[39m)\n\u001b[0;32m      3\u001b[0m fig\u001b[38;5;241m.\u001b[39mshow()\n",
      "\u001b[1;31mNameError\u001b[0m: name 'x_cords' is not defined"
     ]
    }
   ],
   "source": [
    "fig=px.scatter(x=x_cords.tolist(), y=y_cords.tolist(), text=word_labels, size_max=100)\n",
    "fig_update_layout(height=800, title_text=\"Word2Vec Most Similarity\")\n",
    "fig.show()"
   ]
  },
  {
   "cell_type": "code",
   "execution_count": 55,
   "id": "d8171136-7323-4058-96ee-3a2047d63527",
   "metadata": {
    "tags": []
   },
   "outputs": [
    {
     "name": "stdout",
     "output_type": "stream",
     "text": [
      "Collecting wordcloud\n",
      "  Downloading wordcloud-1.9.2-cp310-cp310-win_amd64.whl (152 kB)\n",
      "     ------------------------------------ 152.1/152.1 kB 647.7 kB/s eta 0:00:00\n",
      "Requirement already satisfied: numpy>=1.6.1 in c:\\users\\ayahm\\anaconda3\\lib\\site-packages (from wordcloud) (1.23.5)\n",
      "Requirement already satisfied: pillow in c:\\users\\ayahm\\anaconda3\\lib\\site-packages (from wordcloud) (9.4.0)\n",
      "Requirement already satisfied: matplotlib in c:\\users\\ayahm\\anaconda3\\lib\\site-packages (from wordcloud) (3.7.0)\n",
      "Requirement already satisfied: pyparsing>=2.3.1 in c:\\users\\ayahm\\anaconda3\\lib\\site-packages (from matplotlib->wordcloud) (3.0.9)\n",
      "Requirement already satisfied: contourpy>=1.0.1 in c:\\users\\ayahm\\anaconda3\\lib\\site-packages (from matplotlib->wordcloud) (1.0.5)\n",
      "Requirement already satisfied: fonttools>=4.22.0 in c:\\users\\ayahm\\anaconda3\\lib\\site-packages (from matplotlib->wordcloud) (4.25.0)\n",
      "Requirement already satisfied: python-dateutil>=2.7 in c:\\users\\ayahm\\anaconda3\\lib\\site-packages (from matplotlib->wordcloud) (2.8.2)\n",
      "Requirement already satisfied: kiwisolver>=1.0.1 in c:\\users\\ayahm\\anaconda3\\lib\\site-packages (from matplotlib->wordcloud) (1.4.4)\n",
      "Requirement already satisfied: cycler>=0.10 in c:\\users\\ayahm\\anaconda3\\lib\\site-packages (from matplotlib->wordcloud) (0.11.0)\n",
      "Requirement already satisfied: packaging>=20.0 in c:\\users\\ayahm\\anaconda3\\lib\\site-packages (from matplotlib->wordcloud) (22.0)\n",
      "Requirement already satisfied: six>=1.5 in c:\\users\\ayahm\\anaconda3\\lib\\site-packages (from python-dateutil>=2.7->matplotlib->wordcloud) (1.16.0)\n",
      "Installing collected packages: wordcloud\n",
      "Successfully installed wordcloud-1.9.2\n"
     ]
    }
   ],
   "source": [
    "!pip install wordcloud "
   ]
  },
  {
   "cell_type": "code",
   "execution_count": 58,
   "id": "c9932519-98ff-4430-8548-1756baa999e8",
   "metadata": {
    "tags": []
   },
   "outputs": [
    {
     "ename": "ModuleNotFoundError",
     "evalue": "No module named 'matplotlip'",
     "output_type": "error",
     "traceback": [
      "\u001b[1;31m---------------------------------------------------------------------------\u001b[0m",
      "\u001b[1;31mModuleNotFoundError\u001b[0m                       Traceback (most recent call last)",
      "Cell \u001b[1;32mIn[58], line 1\u001b[0m\n\u001b[1;32m----> 1\u001b[0m \u001b[38;5;28;01mimport\u001b[39;00m \u001b[38;5;21;01mmatplotlip\u001b[39;00m\u001b[38;5;21;01m.\u001b[39;00m\u001b[38;5;21;01mpyplot\u001b[39;00m \u001b[38;5;28;01mas\u001b[39;00m \u001b[38;5;21;01mplt\u001b[39;00m\n\u001b[0;32m      2\u001b[0m get_ipython()\u001b[38;5;241m.\u001b[39mrun_line_magic(\u001b[38;5;124m'\u001b[39m\u001b[38;5;124mmatplotlip\u001b[39m\u001b[38;5;124m'\u001b[39m, \u001b[38;5;124m'\u001b[39m\u001b[38;5;124minline\u001b[39m\u001b[38;5;124m'\u001b[39m)\n\u001b[0;32m      3\u001b[0m \u001b[38;5;28;01mfrom\u001b[39;00m \u001b[38;5;21;01mwordcloud\u001b[39;00m \u001b[38;5;28;01mimport\u001b[39;00m WordCloud\n",
      "\u001b[1;31mModuleNotFoundError\u001b[0m: No module named 'matplotlip'"
     ]
    }
   ],
   "source": [
    "import matplotlip.pyplot as plt\n",
    "%matplotlip inline \n",
    "from wordcloud import WordCloud"
   ]
  },
  {
   "cell_type": "code",
   "execution_count": 57,
   "id": "770e4cf4-6a66-4fc1-9a48-27aa3f6971e0",
   "metadata": {
    "tags": []
   },
   "outputs": [
    {
     "data": {
      "text/plain": [
       "10697"
      ]
     },
     "execution_count": 57,
     "metadata": {},
     "output_type": "execute_result"
    }
   ],
   "source": [
    "len(words)"
   ]
  },
  {
   "cell_type": "code",
   "execution_count": 59,
   "id": "b420ed1d-9e18-4552-a319-8ba5cfdb3f99",
   "metadata": {
    "tags": []
   },
   "outputs": [
    {
     "ename": "NameError",
     "evalue": "name 'WordCloud' is not defined",
     "output_type": "error",
     "traceback": [
      "\u001b[1;31m---------------------------------------------------------------------------\u001b[0m",
      "\u001b[1;31mNameError\u001b[0m                                 Traceback (most recent call last)",
      "Cell \u001b[1;32mIn[59], line 8\u001b[0m\n\u001b[0;32m      4\u001b[0m     sentence\u001b[38;5;241m.\u001b[39mappend(i)\n\u001b[0;32m      6\u001b[0m text \u001b[38;5;241m=\u001b[39m \u001b[38;5;124m\"\u001b[39m\u001b[38;5;124m \u001b[39m\u001b[38;5;124m\"\u001b[39m\u001b[38;5;241m.\u001b[39mjoin(\u001b[38;5;28mmap\u001b[39m(\u001b[38;5;28mstr\u001b[39m,sentence))\n\u001b[1;32m----> 8\u001b[0m wordcloud \u001b[38;5;241m=\u001b[39m \u001b[43mWordCloud\u001b[49m(width\u001b[38;5;241m=\u001b[39m\u001b[38;5;241m3000\u001b[39m, height\u001b[38;5;241m=\u001b[39m\u001b[38;5;241m3000\u001b[39m, max_font_size\u001b[38;5;241m=\u001b[39m\u001b[38;5;241m300\u001b[39m, background_color\u001b[38;5;241m=\u001b[39m\u001b[38;5;124m\"\u001b[39m\u001b[38;5;124mwhite\u001b[39m\u001b[38;5;124m\"\u001b[39m, colormap\u001b[38;5;241m=\u001b[39m\u001b[38;5;124m\"\u001b[39m\u001b[38;5;124mtwilight_shifted\u001b[39m\u001b[38;5;124m\"\u001b[39m)\u001b[38;5;241m.\u001b[39mgenerate(text)\n\u001b[0;32m     10\u001b[0m plt\u001b[38;5;241m.\u001b[39mfigure(figsize\u001b[38;5;241m=\u001b[39m(\u001b[38;5;241m20\u001b[39m,\u001b[38;5;241m17\u001b[39m))\n\u001b[0;32m     11\u001b[0m pl\u001b[38;5;241m.\u001b[39mimshow(wordcloud,interpolation\u001b[38;5;241m=\u001b[39m\u001b[38;5;28;01mNone\u001b[39;00m)\n",
      "\u001b[1;31mNameError\u001b[0m: name 'WordCloud' is not defined"
     ]
    }
   ],
   "source": [
    "sentence = []\n",
    "\n",
    "for i in words:\n",
    "    sentence.append(i)\n",
    "    \n",
    "text = \" \".join(map(str,sentence))\n",
    "\n",
    "wordcloud = WordCloud(width=3000, height=3000, max_font_size=300, background_color=\"white\", colormap=\"twilight_shifted\").generate(text)\n",
    "\n",
    "plt.figure(figsize=(20,17))\n",
    "pl.imshow(wordcloud,interpolation=None)\n",
    "plt.axis(\"off\")\n",
    "plt.show()"
   ]
  },
  {
   "cell_type": "code",
   "execution_count": null,
   "id": "076d8855-fa01-48ca-8149-ec3b45fc9ec4",
   "metadata": {},
   "outputs": [],
   "source": []
  }
 ],
 "metadata": {
  "kernelspec": {
   "display_name": "Python 3 (ipykernel)",
   "language": "python",
   "name": "python3"
  },
  "language_info": {
   "codemirror_mode": {
    "name": "ipython",
    "version": 3
   },
   "file_extension": ".py",
   "mimetype": "text/x-python",
   "name": "python",
   "nbconvert_exporter": "python",
   "pygments_lexer": "ipython3",
   "version": "3.10.9"
  }
 },
 "nbformat": 4,
 "nbformat_minor": 5
}
